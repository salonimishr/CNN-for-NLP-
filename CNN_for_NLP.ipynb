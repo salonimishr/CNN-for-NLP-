{
  "nbformat": 4,
  "nbformat_minor": 0,
  "metadata": {
    "colab": {
      "name": "CNN for NLP.ipynb",
      "provenance": []
    },
    "kernelspec": {
      "name": "python3",
      "display_name": "Python 3"
    }
  },
  "cells": [
    {
      "cell_type": "markdown",
      "metadata": {
        "id": "40tMPsSnGEQ3"
      },
      "source": [
        "CNN is very successful in image classification. But it can also be used in NLP classification problem. For this project I used IMDb, Amazon, and Yelp. Each review has a score which is either 0 or 1, where 0 is for a negative sentiment and 1 for a positive sentiment. "
      ]
    },
    {
      "cell_type": "code",
      "metadata": {
        "id": "DbhcYLMplGRC"
      },
      "source": [
        "import os\r\n",
        "import time\r\n",
        "import numpy as np\r\n",
        "import numpy as np\r\n",
        "from numpy.linalg import norm\r\n",
        "import pickle\r\n",
        "from tqdm import tqdm, tqdm_notebook\r\n",
        "from keras.applications import VGG19\r\n",
        "import os\r\n",
        "import time\r\n",
        "from keras.preprocessing import image\r\n",
        "\r\n",
        "from keras.applications.resnet50 import ResNet50, preprocess_input"
      ],
      "execution_count": 22,
      "outputs": []
    },
    {
      "cell_type": "code",
      "metadata": {
        "colab": {
          "base_uri": "https://localhost:8080/"
        },
        "id": "W0mLPeEclHYg",
        "outputId": "c93815eb-98eb-40bf-ad65-46931f877d47"
      },
      "source": [
        "from google.colab import drive\r\n",
        "drive.mount('/content/drive')"
      ],
      "execution_count": 23,
      "outputs": [
        {
          "output_type": "stream",
          "text": [
            "Drive already mounted at /content/drive; to attempt to forcibly remount, call drive.mount(\"/content/drive\", force_remount=True).\n"
          ],
          "name": "stdout"
        }
      ]
    },
    {
      "cell_type": "code",
      "metadata": {
        "id": "htHDjXIJK7Jy"
      },
      "source": [
        ""
      ],
      "execution_count": null,
      "outputs": []
    },
    {
      "cell_type": "markdown",
      "metadata": {
        "id": "YVbsyCGHK79R"
      },
      "source": [
        "For this, all the reviews are concatenated and I got one final data as follows."
      ]
    },
    {
      "cell_type": "code",
      "metadata": {
        "colab": {
          "base_uri": "https://localhost:8080/"
        },
        "id": "EnWj4acnlIOL",
        "outputId": "9e357c10-44e8-45e5-b056-f0a6c3fc1192"
      },
      "source": [
        "import pandas as pd\r\n",
        "\r\n",
        "filepath_dict = {'yelp': '/content/drive/My Drive/sentiment_labelled_sentences/yelp_labelled.txt','amazon': '/content/drive/My Drive/sentiment_labelled_sentences/amazon_cells_labelled.txt','imdb':'/content/drive/My Drive/sentiment_labelled_sentences/imdb_labelled.txt'}       \r\n",
        "                  \r\n",
        "                  \r\n",
        "                  \r\n",
        "df_list = []\r\n",
        "for source, filepath in filepath_dict.items():\r\n",
        "   df = pd.read_csv(filepath, names=['sentence', 'label'], sep='\\t')\r\n",
        "   # Add another column filled with the source name\r\n",
        "   df['source'] = source \r\n",
        "   df_list.append(df)\r\n",
        "df = pd.concat(df_list)\r\n",
        "print(df.head())"
      ],
      "execution_count": 24,
      "outputs": [
        {
          "output_type": "stream",
          "text": [
            "                                            sentence  label source\n",
            "0                           Wow... Loved this place.      1   yelp\n",
            "1                                 Crust is not good.      0   yelp\n",
            "2          Not tasty and the texture was just nasty.      0   yelp\n",
            "3  Stopped by during the late May bank holiday of...      1   yelp\n",
            "4  The selection on the menu was great and so wer...      1   yelp\n"
          ],
          "name": "stdout"
        }
      ]
    },
    {
      "cell_type": "markdown",
      "metadata": {
        "id": "f-EfpXNULZb7"
      },
      "source": [
        "Keras :\r\n",
        "Tokenizer: Vectorize a text corpus into a list of integers. \r\n",
        "Additionally, a maxlen parameter is used to specify how long the sequences should be. This cuts sequences that exceed that number."
      ]
    },
    {
      "cell_type": "code",
      "metadata": {
        "id": "2pFK_oudlIUA"
      },
      "source": [
        "from sklearn.model_selection import train_test_split             \r\n",
        "\r\n",
        "from keras.preprocessing.text import Tokenizer                    \r\n",
        "from keras.preprocessing.sequence import pad_sequences\r\n",
        "df_yelp = df[df['source'] == 'yelp']\r\n",
        "\r\n",
        "sentences = df_yelp['sentence'].values\r\n",
        "y = df_yelp['label'].values\r\n",
        "\r\n",
        "sentences_train,sentences_test,y_train,y_test = train_test_split(\r\n",
        "                                                sentences, y,  \r\n",
        "                                                test_size=0.3,  \r\n",
        "                                                random_state=0)\r\n",
        "\r\n",
        "tokenizer = Tokenizer(num_words=5000)\r\n",
        "tokenizer.fit_on_texts(sentences_train)\r\n",
        "\r\n",
        "X_train = tokenizer.texts_to_sequences(sentences_train)\r\n",
        "X_test = tokenizer.texts_to_sequences(sentences_test)\r\n",
        "# Adding 1 because of  reserved 0 index\r\n",
        "vocab_size = len(tokenizer.word_index) + 1                          \r\n",
        "\r\n",
        "maxlen = 50\r\n",
        "\r\n",
        "X_train = pad_sequences(X_train, padding='post', maxlen=maxlen)\r\n",
        "X_test = pad_sequences(X_test, padding='post', maxlen=maxlen)"
      ],
      "execution_count": 25,
      "outputs": []
    },
    {
      "cell_type": "code",
      "metadata": {
        "id": "p0mXu33ilIbJ"
      },
      "source": [
        "import numpy as np\r\n",
        "\r\n",
        "def matrix(filepath, word_index, dim):\r\n",
        "    vocab_size = len(word_index) + 1  \r\n",
        "    # Adding again 1 because of reserved 0 index\r\n",
        "    matrix = np.zeros((vocab_size, dim))\r\n",
        "\r\n",
        "    with open(filepath) as f:\r\n",
        "        for line in f:\r\n",
        "            word, *vector = line.split()\r\n",
        "            if word in word_index:\r\n",
        "                idx = word_index[word] \r\n",
        "                matrix[idx] = np.array(vector, dtype=np.float32)[:dim]\r\n",
        "\r\n",
        "    return matrix"
      ],
      "execution_count": 26,
      "outputs": []
    },
    {
      "cell_type": "markdown",
      "metadata": {
        "id": "5lpc61dNOz-j"
      },
      "source": [
        "GloVe:To obtain word embeddings I used GloVe(Global Vectors for Word Representation) developed by the Stanford NLP Group."
      ]
    },
    {
      "cell_type": "code",
      "metadata": {
        "id": "BrD1hvgPlIhY"
      },
      "source": [
        "embedding_dim = 50\r\n",
        "embedding_matrix = create_embedding_matrix(\"/content/drive/My Drive/Colab_Notebooks/glove/glove.6B.50d.txt\" ,tokenizer.word_index, embedding_dim)"
      ],
      "execution_count": 31,
      "outputs": []
    },
    {
      "cell_type": "markdown",
      "metadata": {
        "id": "P-ZT-q-QPEgp"
      },
      "source": [
        "Training a CNN Model"
      ]
    },
    {
      "cell_type": "code",
      "metadata": {
        "colab": {
          "base_uri": "https://localhost:8080/"
        },
        "id": "BPWcH2VnlIl6",
        "outputId": "683a0507-29df-4766-ffae-dab04dd66db9"
      },
      "source": [
        "from keras.models import Sequential\r\n",
        "from keras import layers\r\n",
        "embedding_dim = 100\r\n",
        "\r\n",
        "model = Sequential()\r\n",
        "model.add(layers.Embedding(vocab_size, embedding_dim, input_length=maxlen))\r\n",
        "model.add(layers.Conv1D(128, 5, activation='relu'))\r\n",
        "model.add(layers.GlobalMaxPooling1D())\r\n",
        "model.add(layers.Dense(10, activation='relu'))\r\n",
        "model.add(layers.Dense(1, activation='sigmoid'))\r\n",
        "model.compile(optimizer='adam',\r\n",
        "              loss='binary_crossentropy',\r\n",
        "              metrics=['accuracy'])\r\n",
        "history = model.fit(X_train, y_train,\r\n",
        "                    epochs=10,\r\n",
        "                    validation_data=(X_test, y_test),\r\n",
        "                    batch_size=10)"
      ],
      "execution_count": 32,
      "outputs": [
        {
          "output_type": "stream",
          "text": [
            "Epoch 1/10\n",
            "75/75 [==============================] - 1s 17ms/step - loss: 0.6834 - accuracy: 0.5507 - val_loss: 0.6602 - val_accuracy: 0.6560\n",
            "Epoch 2/10\n",
            "75/75 [==============================] - 1s 15ms/step - loss: 0.4921 - accuracy: 0.8413 - val_loss: 0.4922 - val_accuracy: 0.7560\n",
            "Epoch 3/10\n",
            "75/75 [==============================] - 1s 15ms/step - loss: 0.1677 - accuracy: 0.9613 - val_loss: 0.4737 - val_accuracy: 0.7880\n",
            "Epoch 4/10\n",
            "75/75 [==============================] - 1s 15ms/step - loss: 0.0420 - accuracy: 0.9880 - val_loss: 0.5064 - val_accuracy: 0.8040\n",
            "Epoch 5/10\n",
            "75/75 [==============================] - 1s 15ms/step - loss: 0.0102 - accuracy: 0.9987 - val_loss: 0.5654 - val_accuracy: 0.7840\n",
            "Epoch 6/10\n",
            "75/75 [==============================] - 1s 15ms/step - loss: 0.0041 - accuracy: 1.0000 - val_loss: 0.5985 - val_accuracy: 0.7880\n",
            "Epoch 7/10\n",
            "75/75 [==============================] - 1s 15ms/step - loss: 0.0022 - accuracy: 1.0000 - val_loss: 0.6421 - val_accuracy: 0.7840\n",
            "Epoch 8/10\n",
            "75/75 [==============================] - 1s 15ms/step - loss: 0.0014 - accuracy: 1.0000 - val_loss: 0.6632 - val_accuracy: 0.7960\n",
            "Epoch 9/10\n",
            "75/75 [==============================] - 1s 15ms/step - loss: 9.6567e-04 - accuracy: 1.0000 - val_loss: 0.6902 - val_accuracy: 0.7920\n",
            "Epoch 10/10\n",
            "75/75 [==============================] - 1s 15ms/step - loss: 7.1792e-04 - accuracy: 1.0000 - val_loss: 0.7074 - val_accuracy: 0.7960\n"
          ],
          "name": "stdout"
        }
      ]
    },
    {
      "cell_type": "code",
      "metadata": {
        "colab": {
          "base_uri": "https://localhost:8080/"
        },
        "id": "SCRyNaJxlIsZ",
        "outputId": "71dde30d-93a2-4d87-83cd-3f25158c0c21"
      },
      "source": [
        ""
      ],
      "execution_count": 33,
      "outputs": [
        {
          "output_type": "execute_result",
          "data": {
            "text/plain": [
              "<tensorflow.python.keras.callbacks.History at 0x7fbb8dffba58>"
            ]
          },
          "metadata": {
            "tags": []
          },
          "execution_count": 33
        }
      ]
    },
    {
      "cell_type": "markdown",
      "metadata": {
        "id": "ENvk9BxaQ7S7"
      },
      "source": [
        "From the below graphs can be understood that model accuracy of training is higher than test. Train is 1 whereas test is 0.796. The model is overfitting the data. Loss plot is also showing that the though model loss is decreasing in each epoch but test set loss after decreasing started increasing."
      ]
    },
    {
      "cell_type": "code",
      "metadata": {
        "colab": {
          "base_uri": "https://localhost:8080/",
          "height": 295
        },
        "id": "t7S97BbjPl9X",
        "outputId": "0a10f4c6-d876-4539-bd43-b7764d1681c8"
      },
      "source": [
        "import matplotlib.pyplot as plt\r\n",
        "# summarize model for accuracy\r\n",
        "plt.plot(history.history['accuracy'])\r\n",
        "plt.plot(history.history['val_accuracy'])\r\n",
        "plt.title(\"model accuracy\")\r\n",
        "plt.ylabel('accuracy')\r\n",
        "plt.xlabel('epoch')\r\n",
        "plt.legend(['train','test'],loc='lower right')\r\n",
        "plt.show()"
      ],
      "execution_count": 34,
      "outputs": [
        {
          "output_type": "display_data",
          "data": {
            "image/png": "[encoded data removed]",
            "text/plain": [
              "<Figure size 432x288 with 1 Axes>"
            ]
          },
          "metadata": {
            "tags": [],
            "needs_background": "light"
          }
        }
      ]
    },
    {
      "cell_type": "code",
      "metadata": {
        "colab": {
          "base_uri": "https://localhost:8080/",
          "height": 295
        },
        "id": "37W3J82MQf0q",
        "outputId": "0dfe1319-d0fd-4c3f-dca1-d9269a7ceb91"
      },
      "source": [
        "import matplotlib.pyplot as plt\r\n",
        "# summarize model for accuracy\r\n",
        "plt.plot(history.history['loss'])\r\n",
        "plt.plot(history.history['val_loss'])\r\n",
        "plt.title(\"model loss\")\r\n",
        "plt.ylabel('loss')\r\n",
        "plt.xlabel('epoch')\r\n",
        "plt.legend(['train','test'],loc='lower right')\r\n",
        "plt.show()"
      ],
      "execution_count": 35,
      "outputs": [
        {
          "output_type": "display_data",
          "data": {
            "image/png": "[encoded data removed]",
            "text/plain": [
              "<Figure size 432x288 with 1 Axes>"
            ]
          },
          "metadata": {
            "tags": [],
            "needs_background": "light"
          }
        }
      ]
    },
    {
      "cell_type": "code",
      "metadata": {
        "id": "cLIQKJzkSn-i"
      },
      "source": [
        "y_pred=model.predict(X_test)\r\n",
        "#y_pred=y_pred.round()\r\n",
        "THRESHOLD = 0.5\r\n",
        "preds = np.where(y_pred > THRESHOLD, 1, 0)"
      ],
      "execution_count": 40,
      "outputs": []
    },
    {
      "cell_type": "code",
      "metadata": {
        "colab": {
          "base_uri": "https://localhost:8080/"
        },
        "id": "qKqEGuikSdLs",
        "outputId": "50fa8b19-4954-4ccc-d34e-ccee2a047ac5"
      },
      "source": [
        "from sklearn.metrics import confusion_matrix\r\n",
        "cm_an=confusion_matrix(y_test, preds)\r\n",
        "cm_an"
      ],
      "execution_count": 42,
      "outputs": [
        {
          "output_type": "execute_result",
          "data": {
            "text/plain": [
              "array([[100,  20],\n",
              "       [ 31,  99]])"
            ]
          },
          "metadata": {
            "tags": []
          },
          "execution_count": 42
        }
      ]
    },
    {
      "cell_type": "code",
      "metadata": {
        "colab": {
          "base_uri": "https://localhost:8080/"
        },
        "id": "9CTFFWKoTjPA",
        "outputId": "6c480563-83df-40ca-b086-88cec695b7c1"
      },
      "source": [
        "tn, fp, fn, tp = confusion_matrix(y_test, preds).ravel()\r\n",
        "specificity = tn / (tn+fp)\r\n",
        "Precision = tp/(tp+fp)\r\n",
        "Recall = tp/(tp+fn)\r\n",
        "print(\"Neural network specificity, Precision, Recall(Sensitivity), accuracy are\", specificity, Precision, Recall)"
      ],
      "execution_count": 44,
      "outputs": [
        {
          "output_type": "stream",
          "text": [
            "Neural network specificity, Precision, Recall(Sensitivity), accuracy are 0.8333333333333334 0.8319327731092437 0.7615384615384615\n"
          ],
          "name": "stdout"
        }
      ]
    },
    {
      "cell_type": "markdown",
      "metadata": {
        "id": "f_AAlPDKRoHK"
      },
      "source": [
        "CONCLUSION:\r\n",
        "CNN is used to NLP problemand classification is acheived. Train accuracy is 1 whereas test is 0.796. This suggesting model is overfitting. Before applying to any outside data this problem should be addressed. Neural network specificity, Precision, Recall(Sensitivity), accuracy are 0.833, 0.83 and 0.76."
      ]
    },
    {
      "cell_type": "code",
      "metadata": {
        "id": "2q94wHNRRnyW"
      },
      "source": [
        ""
      ],
      "execution_count": null,
      "outputs": []
    }
  ]
}